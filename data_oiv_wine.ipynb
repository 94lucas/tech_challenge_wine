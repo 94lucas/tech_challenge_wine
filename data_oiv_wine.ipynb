{
 "cells": [
  {
   "cell_type": "markdown",
   "id": "def23e65",
   "metadata": {},
   "source": [
    "- verificar consumidores\n",
    "- verificar maiores importadores"
   ]
  },
  {
   "cell_type": "code",
   "execution_count": 129,
   "id": "c479ba05",
   "metadata": {},
   "outputs": [],
   "source": [
    "import warnings \n",
    "warnings.filterwarnings(action = 'ignore')\n",
    "import pandas as pd\n"
   ]
  },
  {
   "cell_type": "code",
   "execution_count": 130,
   "id": "27caed06",
   "metadata": {},
   "outputs": [],
   "source": [
    "#importando dados da base da OIV\n",
    "#%pip install openpyxl\n",
    "dados_oiv = pd.read_excel(\"/Users/lucas/pos-tech/challenge/wine_data/base_OIV/data_oiv.xlsx\")"
   ]
  },
  {
   "cell_type": "code",
   "execution_count": 131,
   "id": "5f40ab0c",
   "metadata": {},
   "outputs": [
    {
     "data": {
      "application/vnd.microsoft.datawrangler.viewer.v0+json": {
       "columns": [
        {
         "name": "index",
         "rawType": "int64",
         "type": "integer"
        },
        {
         "name": "Continent",
         "rawType": "object",
         "type": "unknown"
        },
        {
         "name": "Region/Country",
         "rawType": "object",
         "type": "unknown"
        },
        {
         "name": "Product",
         "rawType": "object",
         "type": "unknown"
        },
        {
         "name": "Variable",
         "rawType": "object",
         "type": "unknown"
        },
        {
         "name": "Year",
         "rawType": "float64",
         "type": "float"
        },
        {
         "name": "Unit",
         "rawType": "object",
         "type": "unknown"
        },
        {
         "name": "Quantity",
         "rawType": "float64",
         "type": "float"
        }
       ],
       "conversionMethod": "pd.DataFrame",
       "ref": "9edefacd-993f-4f0a-8c29-747dd71ea18b",
       "rows": [
        [
         "59377",
         "Africa",
         "Zimbabwe",
         "Wine",
         "Exports",
         "2023.0",
         "1000 hl",
         "0.0"
        ],
        [
         "59378",
         "Africa",
         "Zimbabwe",
         "Wine",
         "Production",
         "2023.0",
         "1000 hl",
         "15.0"
        ],
        [
         "59379",
         "Africa",
         "Zimbabwe",
         "Wine",
         "Production",
         "2024.0",
         "1000 hl",
         "14.0"
        ],
        [
         "59380",
         null,
         null,
         null,
         null,
         null,
         null,
         null
        ],
        [
         "59381",
         "Applied filters:\nLanguage is EN",
         null,
         null,
         null,
         null,
         null,
         null
        ]
       ],
       "shape": {
        "columns": 7,
        "rows": 5
       }
      },
      "text/html": [
       "<div>\n",
       "<style scoped>\n",
       "    .dataframe tbody tr th:only-of-type {\n",
       "        vertical-align: middle;\n",
       "    }\n",
       "\n",
       "    .dataframe tbody tr th {\n",
       "        vertical-align: top;\n",
       "    }\n",
       "\n",
       "    .dataframe thead th {\n",
       "        text-align: right;\n",
       "    }\n",
       "</style>\n",
       "<table border=\"1\" class=\"dataframe\">\n",
       "  <thead>\n",
       "    <tr style=\"text-align: right;\">\n",
       "      <th></th>\n",
       "      <th>Continent</th>\n",
       "      <th>Region/Country</th>\n",
       "      <th>Product</th>\n",
       "      <th>Variable</th>\n",
       "      <th>Year</th>\n",
       "      <th>Unit</th>\n",
       "      <th>Quantity</th>\n",
       "    </tr>\n",
       "  </thead>\n",
       "  <tbody>\n",
       "    <tr>\n",
       "      <th>59377</th>\n",
       "      <td>Africa</td>\n",
       "      <td>Zimbabwe</td>\n",
       "      <td>Wine</td>\n",
       "      <td>Exports</td>\n",
       "      <td>2023.0</td>\n",
       "      <td>1000 hl</td>\n",
       "      <td>0.0</td>\n",
       "    </tr>\n",
       "    <tr>\n",
       "      <th>59378</th>\n",
       "      <td>Africa</td>\n",
       "      <td>Zimbabwe</td>\n",
       "      <td>Wine</td>\n",
       "      <td>Production</td>\n",
       "      <td>2023.0</td>\n",
       "      <td>1000 hl</td>\n",
       "      <td>15.0</td>\n",
       "    </tr>\n",
       "    <tr>\n",
       "      <th>59379</th>\n",
       "      <td>Africa</td>\n",
       "      <td>Zimbabwe</td>\n",
       "      <td>Wine</td>\n",
       "      <td>Production</td>\n",
       "      <td>2024.0</td>\n",
       "      <td>1000 hl</td>\n",
       "      <td>14.0</td>\n",
       "    </tr>\n",
       "    <tr>\n",
       "      <th>59380</th>\n",
       "      <td>NaN</td>\n",
       "      <td>NaN</td>\n",
       "      <td>NaN</td>\n",
       "      <td>NaN</td>\n",
       "      <td>NaN</td>\n",
       "      <td>NaN</td>\n",
       "      <td>NaN</td>\n",
       "    </tr>\n",
       "    <tr>\n",
       "      <th>59381</th>\n",
       "      <td>Applied filters:\\nLanguage is EN</td>\n",
       "      <td>NaN</td>\n",
       "      <td>NaN</td>\n",
       "      <td>NaN</td>\n",
       "      <td>NaN</td>\n",
       "      <td>NaN</td>\n",
       "      <td>NaN</td>\n",
       "    </tr>\n",
       "  </tbody>\n",
       "</table>\n",
       "</div>"
      ],
      "text/plain": [
       "                              Continent Region/Country Product    Variable  \\\n",
       "59377                            Africa       Zimbabwe    Wine     Exports   \n",
       "59378                            Africa       Zimbabwe    Wine  Production   \n",
       "59379                            Africa       Zimbabwe    Wine  Production   \n",
       "59380                               NaN            NaN     NaN         NaN   \n",
       "59381  Applied filters:\\nLanguage is EN            NaN     NaN         NaN   \n",
       "\n",
       "         Year     Unit  Quantity  \n",
       "59377  2023.0  1000 hl       0.0  \n",
       "59378  2023.0  1000 hl      15.0  \n",
       "59379  2024.0  1000 hl      14.0  \n",
       "59380     NaN      NaN       NaN  \n",
       "59381     NaN      NaN       NaN  "
      ]
     },
     "execution_count": 131,
     "metadata": {},
     "output_type": "execute_result"
    }
   ],
   "source": [
    "dados_oiv.tail()"
   ]
  },
  {
   "cell_type": "code",
   "execution_count": 132,
   "id": "945363b2",
   "metadata": {},
   "outputs": [
    {
     "data": {
      "application/vnd.microsoft.datawrangler.viewer.v0+json": {
       "columns": [
        {
         "name": "index",
         "rawType": "int64",
         "type": "integer"
        },
        {
         "name": "Continent",
         "rawType": "object",
         "type": "string"
        },
        {
         "name": "Region/Country",
         "rawType": "object",
         "type": "string"
        },
        {
         "name": "Product",
         "rawType": "object",
         "type": "string"
        },
        {
         "name": "Variable",
         "rawType": "object",
         "type": "string"
        },
        {
         "name": "Year",
         "rawType": "object",
         "type": "string"
        },
        {
         "name": "Unit",
         "rawType": "object",
         "type": "string"
        },
        {
         "name": "Quantity",
         "rawType": "float64",
         "type": "float"
        }
       ],
       "conversionMethod": "pd.DataFrame",
       "ref": "70c3838b-04cc-4306-8640-467909f37656",
       "rows": [
        [
         "0",
         "Asia",
         "Afghanistan",
         "Dried Grapes",
         "Consumption",
         "1995",
         "tonnes",
         "8050.0"
        ],
        [
         "1",
         "Asia",
         "Afghanistan",
         "Table Grapes",
         "Consumption",
         "1995",
         "tonnes",
         "189800.0"
        ],
        [
         "2",
         "Asia",
         "Afghanistan",
         "Dried Grapes",
         "Exports",
         "1995",
         "tonnes",
         "20000.0"
        ],
        [
         "3",
         "Asia",
         "Afghanistan",
         "Fresh Grapes",
         "Exports",
         "1995",
         "tonnes",
         "11500.0"
        ],
        [
         "4",
         "Asia",
         "Afghanistan",
         "Fresh Grapes",
         "Imports",
         "1995",
         "tonnes",
         "0.0"
        ]
       ],
       "shape": {
        "columns": 7,
        "rows": 5
       }
      },
      "text/html": [
       "<div>\n",
       "<style scoped>\n",
       "    .dataframe tbody tr th:only-of-type {\n",
       "        vertical-align: middle;\n",
       "    }\n",
       "\n",
       "    .dataframe tbody tr th {\n",
       "        vertical-align: top;\n",
       "    }\n",
       "\n",
       "    .dataframe thead th {\n",
       "        text-align: right;\n",
       "    }\n",
       "</style>\n",
       "<table border=\"1\" class=\"dataframe\">\n",
       "  <thead>\n",
       "    <tr style=\"text-align: right;\">\n",
       "      <th></th>\n",
       "      <th>Continent</th>\n",
       "      <th>Region/Country</th>\n",
       "      <th>Product</th>\n",
       "      <th>Variable</th>\n",
       "      <th>Year</th>\n",
       "      <th>Unit</th>\n",
       "      <th>Quantity</th>\n",
       "    </tr>\n",
       "  </thead>\n",
       "  <tbody>\n",
       "    <tr>\n",
       "      <th>0</th>\n",
       "      <td>Asia</td>\n",
       "      <td>Afghanistan</td>\n",
       "      <td>Dried Grapes</td>\n",
       "      <td>Consumption</td>\n",
       "      <td>1995</td>\n",
       "      <td>tonnes</td>\n",
       "      <td>8050.0</td>\n",
       "    </tr>\n",
       "    <tr>\n",
       "      <th>1</th>\n",
       "      <td>Asia</td>\n",
       "      <td>Afghanistan</td>\n",
       "      <td>Table Grapes</td>\n",
       "      <td>Consumption</td>\n",
       "      <td>1995</td>\n",
       "      <td>tonnes</td>\n",
       "      <td>189800.0</td>\n",
       "    </tr>\n",
       "    <tr>\n",
       "      <th>2</th>\n",
       "      <td>Asia</td>\n",
       "      <td>Afghanistan</td>\n",
       "      <td>Dried Grapes</td>\n",
       "      <td>Exports</td>\n",
       "      <td>1995</td>\n",
       "      <td>tonnes</td>\n",
       "      <td>20000.0</td>\n",
       "    </tr>\n",
       "    <tr>\n",
       "      <th>3</th>\n",
       "      <td>Asia</td>\n",
       "      <td>Afghanistan</td>\n",
       "      <td>Fresh Grapes</td>\n",
       "      <td>Exports</td>\n",
       "      <td>1995</td>\n",
       "      <td>tonnes</td>\n",
       "      <td>11500.0</td>\n",
       "    </tr>\n",
       "    <tr>\n",
       "      <th>4</th>\n",
       "      <td>Asia</td>\n",
       "      <td>Afghanistan</td>\n",
       "      <td>Fresh Grapes</td>\n",
       "      <td>Imports</td>\n",
       "      <td>1995</td>\n",
       "      <td>tonnes</td>\n",
       "      <td>0.0</td>\n",
       "    </tr>\n",
       "  </tbody>\n",
       "</table>\n",
       "</div>"
      ],
      "text/plain": [
       "  Continent Region/Country       Product     Variable  Year    Unit  Quantity\n",
       "0      Asia    Afghanistan  Dried Grapes  Consumption  1995  tonnes    8050.0\n",
       "1      Asia    Afghanistan  Table Grapes  Consumption  1995  tonnes  189800.0\n",
       "2      Asia    Afghanistan  Dried Grapes      Exports  1995  tonnes   20000.0\n",
       "3      Asia    Afghanistan  Fresh Grapes      Exports  1995  tonnes   11500.0\n",
       "4      Asia    Afghanistan  Fresh Grapes      Imports  1995  tonnes       0.0"
      ]
     },
     "execution_count": 132,
     "metadata": {},
     "output_type": "execute_result"
    }
   ],
   "source": [
    "dados_oiv['Year'] = dados_oiv['Year'].astype(str).str.replace('.0','')\n",
    "dados_oiv.head()"
   ]
  },
  {
   "cell_type": "code",
   "execution_count": 133,
   "id": "9ba3b037",
   "metadata": {},
   "outputs": [
    {
     "name": "stdout",
     "output_type": "stream",
     "text": [
      "<class 'pandas.core.frame.DataFrame'>\n",
      "Index: 59380 entries, 0 to 59379\n",
      "Data columns (total 7 columns):\n",
      " #   Column          Non-Null Count  Dtype  \n",
      "---  ------          --------------  -----  \n",
      " 0   Continent       59380 non-null  object \n",
      " 1   Region/Country  59380 non-null  object \n",
      " 2   Product         59380 non-null  object \n",
      " 3   Variable        59380 non-null  object \n",
      " 4   Year            59380 non-null  int64  \n",
      " 5   Unit            59380 non-null  object \n",
      " 6   Quantity        59380 non-null  float64\n",
      "dtypes: float64(1), int64(1), object(5)\n",
      "memory usage: 3.6+ MB\n"
     ]
    }
   ],
   "source": [
    "import numpy as np\n",
    "# Replace 'nan' with NaN (numpy.nan)\n",
    "dados_oiv['Year'] = dados_oiv['Year'].replace('nan', np.nan)\n",
    "\n",
    "# Remove rows where 'Year' is NaN\n",
    "dados_oiv = dados_oiv.dropna(subset=['Year'])\n",
    "\n",
    "# Convert 'Year' to integer\n",
    "dados_oiv['Year'] = dados_oiv['Year'].astype(int)\n",
    "dados_oiv.info()"
   ]
  },
  {
   "cell_type": "code",
   "execution_count": 134,
   "id": "10c5cf71",
   "metadata": {},
   "outputs": [],
   "source": [
    "dados_oiv = dados_oiv.query(\"Year >= 2010\")\n"
   ]
  },
  {
   "cell_type": "code",
   "execution_count": 135,
   "id": "9231c7b9",
   "metadata": {},
   "outputs": [
    {
     "data": {
      "application/vnd.microsoft.datawrangler.viewer.v0+json": {
       "columns": [
        {
         "name": "index",
         "rawType": "int64",
         "type": "integer"
        },
        {
         "name": "Continent",
         "rawType": "object",
         "type": "string"
        },
        {
         "name": "Region/Country",
         "rawType": "object",
         "type": "string"
        },
        {
         "name": "Product",
         "rawType": "object",
         "type": "string"
        },
        {
         "name": "Variable",
         "rawType": "object",
         "type": "string"
        },
        {
         "name": "Year",
         "rawType": "int64",
         "type": "integer"
        },
        {
         "name": "Unit",
         "rawType": "object",
         "type": "string"
        },
        {
         "name": "Quantity",
         "rawType": "float64",
         "type": "float"
        }
       ],
       "conversionMethod": "pd.DataFrame",
       "ref": "ad5e494e-919e-4ea0-8bf3-0a0c0e3a16ec",
       "rows": [
        [
         "120",
         "Asia",
         "Afghanistan",
         "Dried Grapes",
         "Consumption",
         "2010",
         "tonnes",
         "9729.0"
        ],
        [
         "121",
         "Asia",
         "Afghanistan",
         "Table Grapes",
         "Consumption",
         "2010",
         "tonnes",
         "243029.0"
        ],
        [
         "122",
         "Asia",
         "Afghanistan",
         "Dried Grapes",
         "Exports",
         "2010",
         "tonnes",
         "24071.0"
        ],
        [
         "123",
         "Asia",
         "Afghanistan",
         "Fresh Grapes",
         "Exports",
         "2010",
         "tonnes",
         "24313.0"
        ],
        [
         "124",
         "Asia",
         "Afghanistan",
         "Fresh Grapes",
         "Imports",
         "2010",
         "tonnes",
         "24071.0"
        ]
       ],
       "shape": {
        "columns": 7,
        "rows": 5
       }
      },
      "text/html": [
       "<div>\n",
       "<style scoped>\n",
       "    .dataframe tbody tr th:only-of-type {\n",
       "        vertical-align: middle;\n",
       "    }\n",
       "\n",
       "    .dataframe tbody tr th {\n",
       "        vertical-align: top;\n",
       "    }\n",
       "\n",
       "    .dataframe thead th {\n",
       "        text-align: right;\n",
       "    }\n",
       "</style>\n",
       "<table border=\"1\" class=\"dataframe\">\n",
       "  <thead>\n",
       "    <tr style=\"text-align: right;\">\n",
       "      <th></th>\n",
       "      <th>Continent</th>\n",
       "      <th>Region/Country</th>\n",
       "      <th>Product</th>\n",
       "      <th>Variable</th>\n",
       "      <th>Year</th>\n",
       "      <th>Unit</th>\n",
       "      <th>Quantity</th>\n",
       "    </tr>\n",
       "  </thead>\n",
       "  <tbody>\n",
       "    <tr>\n",
       "      <th>120</th>\n",
       "      <td>Asia</td>\n",
       "      <td>Afghanistan</td>\n",
       "      <td>Dried Grapes</td>\n",
       "      <td>Consumption</td>\n",
       "      <td>2010</td>\n",
       "      <td>tonnes</td>\n",
       "      <td>9729.0</td>\n",
       "    </tr>\n",
       "    <tr>\n",
       "      <th>121</th>\n",
       "      <td>Asia</td>\n",
       "      <td>Afghanistan</td>\n",
       "      <td>Table Grapes</td>\n",
       "      <td>Consumption</td>\n",
       "      <td>2010</td>\n",
       "      <td>tonnes</td>\n",
       "      <td>243029.0</td>\n",
       "    </tr>\n",
       "    <tr>\n",
       "      <th>122</th>\n",
       "      <td>Asia</td>\n",
       "      <td>Afghanistan</td>\n",
       "      <td>Dried Grapes</td>\n",
       "      <td>Exports</td>\n",
       "      <td>2010</td>\n",
       "      <td>tonnes</td>\n",
       "      <td>24071.0</td>\n",
       "    </tr>\n",
       "    <tr>\n",
       "      <th>123</th>\n",
       "      <td>Asia</td>\n",
       "      <td>Afghanistan</td>\n",
       "      <td>Fresh Grapes</td>\n",
       "      <td>Exports</td>\n",
       "      <td>2010</td>\n",
       "      <td>tonnes</td>\n",
       "      <td>24313.0</td>\n",
       "    </tr>\n",
       "    <tr>\n",
       "      <th>124</th>\n",
       "      <td>Asia</td>\n",
       "      <td>Afghanistan</td>\n",
       "      <td>Fresh Grapes</td>\n",
       "      <td>Imports</td>\n",
       "      <td>2010</td>\n",
       "      <td>tonnes</td>\n",
       "      <td>24071.0</td>\n",
       "    </tr>\n",
       "  </tbody>\n",
       "</table>\n",
       "</div>"
      ],
      "text/plain": [
       "    Continent Region/Country       Product     Variable  Year    Unit  \\\n",
       "120      Asia    Afghanistan  Dried Grapes  Consumption  2010  tonnes   \n",
       "121      Asia    Afghanistan  Table Grapes  Consumption  2010  tonnes   \n",
       "122      Asia    Afghanistan  Dried Grapes      Exports  2010  tonnes   \n",
       "123      Asia    Afghanistan  Fresh Grapes      Exports  2010  tonnes   \n",
       "124      Asia    Afghanistan  Fresh Grapes      Imports  2010  tonnes   \n",
       "\n",
       "     Quantity  \n",
       "120    9729.0  \n",
       "121  243029.0  \n",
       "122   24071.0  \n",
       "123   24313.0  \n",
       "124   24071.0  "
      ]
     },
     "execution_count": 135,
     "metadata": {},
     "output_type": "execute_result"
    }
   ],
   "source": [
    "dados_oiv.head()"
   ]
  },
  {
   "cell_type": "markdown",
   "id": "215d833e",
   "metadata": {},
   "source": [
    "- Maiores importadores"
   ]
  },
  {
   "cell_type": "code",
   "execution_count": 136,
   "id": "feaeb288",
   "metadata": {},
   "outputs": [
    {
     "data": {
      "application/vnd.microsoft.datawrangler.viewer.v0+json": {
       "columns": [
        {
         "name": "index",
         "rawType": "int64",
         "type": "integer"
        },
        {
         "name": "Continent",
         "rawType": "object",
         "type": "string"
        },
        {
         "name": "Region/Country",
         "rawType": "object",
         "type": "string"
        },
        {
         "name": "Product",
         "rawType": "object",
         "type": "string"
        },
        {
         "name": "Variable",
         "rawType": "object",
         "type": "string"
        },
        {
         "name": "Year",
         "rawType": "int64",
         "type": "integer"
        },
        {
         "name": "Unit",
         "rawType": "object",
         "type": "string"
        },
        {
         "name": "Quantity",
         "rawType": "float64",
         "type": "float"
        }
       ],
       "conversionMethod": "pd.DataFrame",
       "ref": "0dc69b81-12e4-44f4-aa29-d0aee7fadbcb",
       "rows": [
        [
         "36863",
         "Asia",
         "Afghanistan",
         "Wine",
         "Consumption",
         "2019",
         "1000 hl",
         "1.0"
        ],
        [
         "36866",
         "Asia",
         "Afghanistan",
         "Wine",
         "Consumption",
         "2020",
         "1000 hl",
         "1.0"
        ],
        [
         "36869",
         "Asia",
         "Afghanistan",
         "Wine",
         "Consumption",
         "2021",
         "1000 hl",
         "1.0"
        ],
        [
         "36872",
         "Asia",
         "Afghanistan",
         "Wine",
         "Consumption",
         "2022",
         "1000 hl",
         "1.0"
        ],
        [
         "36875",
         "Asia",
         "Afghanistan",
         "Wine",
         "Consumption",
         "2023",
         "1000 hl",
         "1.0"
        ]
       ],
       "shape": {
        "columns": 7,
        "rows": 5
       }
      },
      "text/html": [
       "<div>\n",
       "<style scoped>\n",
       "    .dataframe tbody tr th:only-of-type {\n",
       "        vertical-align: middle;\n",
       "    }\n",
       "\n",
       "    .dataframe tbody tr th {\n",
       "        vertical-align: top;\n",
       "    }\n",
       "\n",
       "    .dataframe thead th {\n",
       "        text-align: right;\n",
       "    }\n",
       "</style>\n",
       "<table border=\"1\" class=\"dataframe\">\n",
       "  <thead>\n",
       "    <tr style=\"text-align: right;\">\n",
       "      <th></th>\n",
       "      <th>Continent</th>\n",
       "      <th>Region/Country</th>\n",
       "      <th>Product</th>\n",
       "      <th>Variable</th>\n",
       "      <th>Year</th>\n",
       "      <th>Unit</th>\n",
       "      <th>Quantity</th>\n",
       "    </tr>\n",
       "  </thead>\n",
       "  <tbody>\n",
       "    <tr>\n",
       "      <th>36863</th>\n",
       "      <td>Asia</td>\n",
       "      <td>Afghanistan</td>\n",
       "      <td>Wine</td>\n",
       "      <td>Consumption</td>\n",
       "      <td>2019</td>\n",
       "      <td>1000 hl</td>\n",
       "      <td>1.0</td>\n",
       "    </tr>\n",
       "    <tr>\n",
       "      <th>36866</th>\n",
       "      <td>Asia</td>\n",
       "      <td>Afghanistan</td>\n",
       "      <td>Wine</td>\n",
       "      <td>Consumption</td>\n",
       "      <td>2020</td>\n",
       "      <td>1000 hl</td>\n",
       "      <td>1.0</td>\n",
       "    </tr>\n",
       "    <tr>\n",
       "      <th>36869</th>\n",
       "      <td>Asia</td>\n",
       "      <td>Afghanistan</td>\n",
       "      <td>Wine</td>\n",
       "      <td>Consumption</td>\n",
       "      <td>2021</td>\n",
       "      <td>1000 hl</td>\n",
       "      <td>1.0</td>\n",
       "    </tr>\n",
       "    <tr>\n",
       "      <th>36872</th>\n",
       "      <td>Asia</td>\n",
       "      <td>Afghanistan</td>\n",
       "      <td>Wine</td>\n",
       "      <td>Consumption</td>\n",
       "      <td>2022</td>\n",
       "      <td>1000 hl</td>\n",
       "      <td>1.0</td>\n",
       "    </tr>\n",
       "    <tr>\n",
       "      <th>36875</th>\n",
       "      <td>Asia</td>\n",
       "      <td>Afghanistan</td>\n",
       "      <td>Wine</td>\n",
       "      <td>Consumption</td>\n",
       "      <td>2023</td>\n",
       "      <td>1000 hl</td>\n",
       "      <td>1.0</td>\n",
       "    </tr>\n",
       "  </tbody>\n",
       "</table>\n",
       "</div>"
      ],
      "text/plain": [
       "      Continent Region/Country Product     Variable  Year     Unit  Quantity\n",
       "36863      Asia    Afghanistan    Wine  Consumption  2019  1000 hl       1.0\n",
       "36866      Asia    Afghanistan    Wine  Consumption  2020  1000 hl       1.0\n",
       "36869      Asia    Afghanistan    Wine  Consumption  2021  1000 hl       1.0\n",
       "36872      Asia    Afghanistan    Wine  Consumption  2022  1000 hl       1.0\n",
       "36875      Asia    Afghanistan    Wine  Consumption  2023  1000 hl       1.0"
      ]
     },
     "metadata": {},
     "output_type": "display_data"
    },
    {
     "data": {
      "application/vnd.microsoft.datawrangler.viewer.v0+json": {
       "columns": [
        {
         "name": "index",
         "rawType": "int64",
         "type": "integer"
        },
        {
         "name": "Continent",
         "rawType": "object",
         "type": "string"
        },
        {
         "name": "Region/Country",
         "rawType": "object",
         "type": "string"
        },
        {
         "name": "Product",
         "rawType": "object",
         "type": "string"
        },
        {
         "name": "Variable",
         "rawType": "object",
         "type": "string"
        },
        {
         "name": "Year",
         "rawType": "int64",
         "type": "integer"
        },
        {
         "name": "Unit",
         "rawType": "object",
         "type": "string"
        },
        {
         "name": "Quantity",
         "rawType": "float64",
         "type": "float"
        }
       ],
       "conversionMethod": "pd.DataFrame",
       "ref": "2ec82a2a-e755-48b0-a029-378f349ef4fc",
       "rows": [
        [
         "36864",
         "Asia",
         "Afghanistan",
         "Wine",
         "Imports",
         "2019",
         "1000 hl",
         "1.0"
        ],
        [
         "36867",
         "Asia",
         "Afghanistan",
         "Wine",
         "Imports",
         "2020",
         "1000 hl",
         "1.0"
        ],
        [
         "36870",
         "Asia",
         "Afghanistan",
         "Wine",
         "Imports",
         "2021",
         "1000 hl",
         "1.0"
        ],
        [
         "36873",
         "Asia",
         "Afghanistan",
         "Wine",
         "Imports",
         "2022",
         "1000 hl",
         "0.0"
        ],
        [
         "36975",
         "Europe",
         "Albania",
         "Wine",
         "Imports",
         "2019",
         "1000 hl",
         "49.0"
        ]
       ],
       "shape": {
        "columns": 7,
        "rows": 5
       }
      },
      "text/html": [
       "<div>\n",
       "<style scoped>\n",
       "    .dataframe tbody tr th:only-of-type {\n",
       "        vertical-align: middle;\n",
       "    }\n",
       "\n",
       "    .dataframe tbody tr th {\n",
       "        vertical-align: top;\n",
       "    }\n",
       "\n",
       "    .dataframe thead th {\n",
       "        text-align: right;\n",
       "    }\n",
       "</style>\n",
       "<table border=\"1\" class=\"dataframe\">\n",
       "  <thead>\n",
       "    <tr style=\"text-align: right;\">\n",
       "      <th></th>\n",
       "      <th>Continent</th>\n",
       "      <th>Region/Country</th>\n",
       "      <th>Product</th>\n",
       "      <th>Variable</th>\n",
       "      <th>Year</th>\n",
       "      <th>Unit</th>\n",
       "      <th>Quantity</th>\n",
       "    </tr>\n",
       "  </thead>\n",
       "  <tbody>\n",
       "    <tr>\n",
       "      <th>36864</th>\n",
       "      <td>Asia</td>\n",
       "      <td>Afghanistan</td>\n",
       "      <td>Wine</td>\n",
       "      <td>Imports</td>\n",
       "      <td>2019</td>\n",
       "      <td>1000 hl</td>\n",
       "      <td>1.0</td>\n",
       "    </tr>\n",
       "    <tr>\n",
       "      <th>36867</th>\n",
       "      <td>Asia</td>\n",
       "      <td>Afghanistan</td>\n",
       "      <td>Wine</td>\n",
       "      <td>Imports</td>\n",
       "      <td>2020</td>\n",
       "      <td>1000 hl</td>\n",
       "      <td>1.0</td>\n",
       "    </tr>\n",
       "    <tr>\n",
       "      <th>36870</th>\n",
       "      <td>Asia</td>\n",
       "      <td>Afghanistan</td>\n",
       "      <td>Wine</td>\n",
       "      <td>Imports</td>\n",
       "      <td>2021</td>\n",
       "      <td>1000 hl</td>\n",
       "      <td>1.0</td>\n",
       "    </tr>\n",
       "    <tr>\n",
       "      <th>36873</th>\n",
       "      <td>Asia</td>\n",
       "      <td>Afghanistan</td>\n",
       "      <td>Wine</td>\n",
       "      <td>Imports</td>\n",
       "      <td>2022</td>\n",
       "      <td>1000 hl</td>\n",
       "      <td>0.0</td>\n",
       "    </tr>\n",
       "    <tr>\n",
       "      <th>36975</th>\n",
       "      <td>Europe</td>\n",
       "      <td>Albania</td>\n",
       "      <td>Wine</td>\n",
       "      <td>Imports</td>\n",
       "      <td>2019</td>\n",
       "      <td>1000 hl</td>\n",
       "      <td>49.0</td>\n",
       "    </tr>\n",
       "  </tbody>\n",
       "</table>\n",
       "</div>"
      ],
      "text/plain": [
       "      Continent Region/Country Product Variable  Year     Unit  Quantity\n",
       "36864      Asia    Afghanistan    Wine  Imports  2019  1000 hl       1.0\n",
       "36867      Asia    Afghanistan    Wine  Imports  2020  1000 hl       1.0\n",
       "36870      Asia    Afghanistan    Wine  Imports  2021  1000 hl       1.0\n",
       "36873      Asia    Afghanistan    Wine  Imports  2022  1000 hl       0.0\n",
       "36975    Europe        Albania    Wine  Imports  2019  1000 hl      49.0"
      ]
     },
     "metadata": {},
     "output_type": "display_data"
    }
   ],
   "source": [
    "dados_import_5y = dados_oiv.query(\"Product == 'Wine' & Variable == 'Imports' & Year >=2019\")\n",
    "dados_consumo_5y = dados_oiv.query(\"Product =='Wine' & Variable == 'Consumption' & Year >=2019\")\n",
    "\n",
    "display(dados_consumo_5y.head())\n",
    "display(dados_import_5y.head())"
   ]
  },
  {
   "cell_type": "markdown",
   "id": "746ece14",
   "metadata": {},
   "source": [
    "- Unit is in 1000hl -> 1hl = 100l"
   ]
  },
  {
   "cell_type": "code",
   "execution_count": 137,
   "id": "97ddac92",
   "metadata": {},
   "outputs": [],
   "source": [
    "dados_consumo_5y.drop(columns=['Continent', 'Unit'], inplace=True)\n",
    "dados_import_5y.drop(columns=['Continent', 'Unit'], inplace=True)"
   ]
  },
  {
   "cell_type": "markdown",
   "id": "ee71942e",
   "metadata": {},
   "source": [
    "# Maiores comsumidores"
   ]
  },
  {
   "cell_type": "code",
   "execution_count": 139,
   "id": "00de26ab",
   "metadata": {},
   "outputs": [
    {
     "data": {
      "application/vnd.microsoft.datawrangler.viewer.v0+json": {
       "columns": [
        {
         "name": "Region/Country",
         "rawType": "object",
         "type": "string"
        },
        {
         "name": "Quantity",
         "rawType": "float64",
         "type": "float"
        }
       ],
       "conversionMethod": "pd.DataFrame",
       "ref": "33bf5858-6169-4584-9ddd-e424a252a68a",
       "rows": [
        [
         "United States of America",
         "208104.0"
        ],
        [
         "France",
         "143653.0"
        ],
        [
         "Italy",
         "137934.0"
        ],
        [
         "Germany",
         "114842.0"
        ],
        [
         "United Kingdom",
         "78719.0"
        ],
        [
         "People's Republic of China",
         "59346.0"
        ],
        [
         "Spain",
         "59016.0"
        ],
        [
         "Argentina",
         "50035.0"
        ],
        [
         "Russia",
         "48795.0"
        ],
        [
         "Australia",
         "33550.0"
        ],
        [
         "Portugal",
         "31824.0"
        ],
        [
         "Canada",
         "30288.0"
        ],
        [
         "South Africa",
         "23744.0"
        ],
        [
         "Brazil",
         "22046.0"
        ],
        [
         "Netherlands",
         "21187.0"
        ],
        [
         "Japan",
         "19697.0"
        ],
        [
         "Romania",
         "17394.0"
        ],
        [
         "Switzerland",
         "14581.0"
        ],
        [
         "Austria",
         "13812.0"
        ],
        [
         "Chile",
         "13558.0"
        ],
        [
         "Belgium",
         "13075.0"
        ],
        [
         "Czech Republic",
         "12788.0"
        ],
        [
         "Sweden",
         "12139.0"
        ],
        [
         "Greece",
         "11634.0"
        ],
        [
         "Hungary",
         "11417.0"
        ],
        [
         "Denmark",
         "8998.0"
        ],
        [
         "Poland",
         "7923.0"
        ],
        [
         "Mexico",
         "7824.0"
        ],
        [
         "Georgia",
         "6573.0"
        ],
        [
         "Ukraine",
         "6571.0"
        ],
        [
         "Croatia",
         "6276.0"
        ],
        [
         "Norway",
         "5672.0"
        ],
        [
         "Belarus",
         "5667.0"
        ],
        [
         "Peru",
         "5511.0"
        ],
        [
         "New Zealand",
         "5307.0"
        ],
        [
         "Ireland",
         "4942.0"
        ],
        [
         "Republic of Türkiye",
         "4376.0"
        ],
        [
         "Slovenia",
         "4362.0"
        ],
        [
         "Serbia",
         "3425.0"
        ],
        [
         "Slovakia",
         "3335.0"
        ],
        [
         "Morocco",
         "3035.0"
        ],
        [
         "Bulgaria",
         "2912.0"
        ],
        [
         "Uruguay",
         "2904.0"
        ],
        [
         "Korea (the Republic of)",
         "2847.0"
        ],
        [
         "Turkmenistan",
         "2463.0"
        ],
        [
         "Kazakhstan",
         "2420.0"
        ],
        [
         "Côte d'Ivoire",
         "2350.0"
        ],
        [
         "Namibia",
         "1910.0"
        ],
        [
         "Lithuania",
         "1642.0"
        ],
        [
         "Finland",
         "1609.0"
        ]
       ],
       "shape": {
        "columns": 1,
        "rows": 197
       }
      },
      "text/html": [
       "<div>\n",
       "<style scoped>\n",
       "    .dataframe tbody tr th:only-of-type {\n",
       "        vertical-align: middle;\n",
       "    }\n",
       "\n",
       "    .dataframe tbody tr th {\n",
       "        vertical-align: top;\n",
       "    }\n",
       "\n",
       "    .dataframe thead th {\n",
       "        text-align: right;\n",
       "    }\n",
       "</style>\n",
       "<table border=\"1\" class=\"dataframe\">\n",
       "  <thead>\n",
       "    <tr style=\"text-align: right;\">\n",
       "      <th></th>\n",
       "      <th>Quantity</th>\n",
       "    </tr>\n",
       "    <tr>\n",
       "      <th>Region/Country</th>\n",
       "      <th></th>\n",
       "    </tr>\n",
       "  </thead>\n",
       "  <tbody>\n",
       "    <tr>\n",
       "      <th>United States of America</th>\n",
       "      <td>208104.0</td>\n",
       "    </tr>\n",
       "    <tr>\n",
       "      <th>France</th>\n",
       "      <td>143653.0</td>\n",
       "    </tr>\n",
       "    <tr>\n",
       "      <th>Italy</th>\n",
       "      <td>137934.0</td>\n",
       "    </tr>\n",
       "    <tr>\n",
       "      <th>Germany</th>\n",
       "      <td>114842.0</td>\n",
       "    </tr>\n",
       "    <tr>\n",
       "      <th>United Kingdom</th>\n",
       "      <td>78719.0</td>\n",
       "    </tr>\n",
       "    <tr>\n",
       "      <th>...</th>\n",
       "      <td>...</td>\n",
       "    </tr>\n",
       "    <tr>\n",
       "      <th>Netherlands Antilles</th>\n",
       "      <td>0.0</td>\n",
       "    </tr>\n",
       "    <tr>\n",
       "      <th>Nauru</th>\n",
       "      <td>0.0</td>\n",
       "    </tr>\n",
       "    <tr>\n",
       "      <th>Mauritania</th>\n",
       "      <td>0.0</td>\n",
       "    </tr>\n",
       "    <tr>\n",
       "      <th>Saudi Arabia</th>\n",
       "      <td>0.0</td>\n",
       "    </tr>\n",
       "    <tr>\n",
       "      <th>Niue</th>\n",
       "      <td>0.0</td>\n",
       "    </tr>\n",
       "  </tbody>\n",
       "</table>\n",
       "<p>197 rows × 1 columns</p>\n",
       "</div>"
      ],
      "text/plain": [
       "                          Quantity\n",
       "Region/Country                    \n",
       "United States of America  208104.0\n",
       "France                    143653.0\n",
       "Italy                     137934.0\n",
       "Germany                   114842.0\n",
       "United Kingdom             78719.0\n",
       "...                            ...\n",
       "Netherlands Antilles           0.0\n",
       "Nauru                          0.0\n",
       "Mauritania                     0.0\n",
       "Saudi Arabia                   0.0\n",
       "Niue                           0.0\n",
       "\n",
       "[197 rows x 1 columns]"
      ]
     },
     "execution_count": 139,
     "metadata": {},
     "output_type": "execute_result"
    }
   ],
   "source": [
    "#dados_consumo_5y.iloc[1:,:]\n",
    "dados_consumo_5y.query(\"Product == 'Wine' & Variable == 'Consumption'\")[['Region/Country', 'Quantity']].groupby('Region/Country').sum().sort_values('Quantity',ascending=False).iloc[1:,:]"
   ]
  },
  {
   "cell_type": "code",
   "execution_count": null,
   "id": "3b012b54",
   "metadata": {},
   "outputs": [],
   "source": []
  }
 ],
 "metadata": {
  "kernelspec": {
   "display_name": "Python 3",
   "language": "python",
   "name": "python3"
  },
  "language_info": {
   "codemirror_mode": {
    "name": "ipython",
    "version": 3
   },
   "file_extension": ".py",
   "mimetype": "text/x-python",
   "name": "python",
   "nbconvert_exporter": "python",
   "pygments_lexer": "ipython3",
   "version": "3.13.0"
  }
 },
 "nbformat": 4,
 "nbformat_minor": 5
}
